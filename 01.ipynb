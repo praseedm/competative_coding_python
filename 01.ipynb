{
  "nbformat": 4,
  "nbformat_minor": 0,
  "metadata": {
    "colab": {
      "provenance": [],
      "authorship_tag": "ABX9TyM36BaFqb8J3xkbnx2NlDYU",
      "include_colab_link": true
    },
    "kernelspec": {
      "name": "python3",
      "display_name": "Python 3"
    },
    "language_info": {
      "name": "python"
    }
  },
  "cells": [
    {
      "cell_type": "markdown",
      "metadata": {
        "id": "view-in-github",
        "colab_type": "text"
      },
      "source": [
        "<a href=\"https://colab.research.google.com/github/praseedm/competative_coding_python/blob/main/01.ipynb\" target=\"_parent\"><img src=\"https://colab.research.google.com/assets/colab-badge.svg\" alt=\"Open In Colab\"/></a>"
      ]
    },
    {
      "cell_type": "markdown",
      "source": [
        "## Two pointer"
      ],
      "metadata": {
        "id": "wsDFeR1cOaIw"
      }
    },
    {
      "cell_type": "markdown",
      "source": [
        "### Is palindrome"
      ],
      "metadata": {
        "id": "Bch_Xjf0OgMF"
      }
    },
    {
      "cell_type": "code",
      "source": [
        "def isPalindrome(s:str) -> bool:\n",
        "    \"\"\"\n",
        "    Check if palindrome\n",
        "    \"\"\"\n",
        "    i = 0\n",
        "    j = len(s)-1\n",
        "    while (i<j):\n",
        "      if s[i] != s[j]:\n",
        "        # not palindrome return False\n",
        "        return False\n",
        "      \n",
        "      i += 1\n",
        "      j -= 1\n",
        "    \n",
        "    return True"
      ],
      "metadata": {
        "id": "GghjHmDfoFXM"
      },
      "execution_count": null,
      "outputs": []
    },
    {
      "cell_type": "code",
      "source": [
        "tests = [\"civic\", \"level\", \"programing\"]\n",
        "for i in tests:\n",
        "  print(i, isPalindrome(s=i))"
      ],
      "metadata": {
        "colab": {
          "base_uri": "https://localhost:8080/"
        },
        "id": "ETl4CTAOQ5ud",
        "outputId": "55551d5a-dd38-4112-adff-1a416611545a"
      },
      "execution_count": null,
      "outputs": [
        {
          "output_type": "stream",
          "name": "stdout",
          "text": [
            "civic True\n",
            "level True\n",
            "programing False\n"
          ]
        }
      ]
    },
    {
      "cell_type": "markdown",
      "source": [
        "### Rotate array to right by K steps"
      ],
      "metadata": {
        "id": "7rYcNRVVdyv_"
      }
    },
    {
      "cell_type": "code",
      "source": [
        "def rotate(nums, k):\n",
        "        \"\"\"\n",
        "        :type nums: List[int]\n",
        "        :type k: int\n",
        "        :rtype: None Do not return anything, modify nums in-place instead.\n",
        "        \"\"\"\n",
        "        k = k % len(nums)\n",
        "        last_k = nums[len(nums) - k :]\n",
        "\n",
        "        # shift first n-k to right\n",
        "        for i in range(len(nums)-k-1, -1, -1):\n",
        "            nums[i+k] = nums[i]\n",
        "\n",
        "        for i in range(k):\n",
        "            nums[i] = last_k[i]"
      ],
      "metadata": {
        "id": "UBQR4yEKRK6S"
      },
      "execution_count": null,
      "outputs": []
    },
    {
      "cell_type": "code",
      "source": [
        "nums = [1, 2, 3, 4, 5, 6, 7]\n",
        "k = 3\n",
        "rotate(nums, k)\n",
        "print(nums)\n",
        "\n",
        "nums = [-1,-100,3,99]\n",
        "k = 2\n",
        "rotate(nums, k)\n",
        "print(nums)"
      ],
      "metadata": {
        "colab": {
          "base_uri": "https://localhost:8080/"
        },
        "id": "h7GVPew0V94i",
        "outputId": "7e1633df-925a-4e49-d0df-6ca4d9f4de7f"
      },
      "execution_count": null,
      "outputs": [
        {
          "output_type": "stream",
          "name": "stdout",
          "text": [
            "[5, 6, 7, 1, 2, 3, 4]\n",
            "[3, 99, -1, -100]\n"
          ]
        }
      ]
    },
    {
      "cell_type": "code",
      "source": [
        "def rotate_left(nums, k):\n",
        "  length = len(nums)\n",
        "\n",
        "  k = k % length\n",
        "  first_k = nums[ : k]\n",
        "\n",
        "  #shift left\n",
        "  for i in range(k,length):\n",
        "    nums[i-k] = nums[i]\n",
        "  \n",
        "  # add first_k to last\n",
        "  for i in range(k):\n",
        "    nums[length - k + i] = first_k[i]\n",
        "\n",
        "  return nums"
      ],
      "metadata": {
        "id": "O81o13iuWB7s"
      },
      "execution_count": null,
      "outputs": []
    },
    {
      "cell_type": "code",
      "source": [
        "assert [3,4,5,1,2] == rotate_left([1,2,3,4,5], 2)"
      ],
      "metadata": {
        "id": "rSsc-AGetoBC"
      },
      "execution_count": null,
      "outputs": []
    },
    {
      "cell_type": "markdown",
      "source": [
        "### Move Zeros"
      ],
      "metadata": {
        "id": "i-pfES_st9O_"
      }
    },
    {
      "cell_type": "code",
      "source": [
        "def moveZeros(nums):\n",
        "  number_of_zeros = 0\n",
        "  non_zero_p = 0\n",
        "\n",
        "  for i in range(len(nums)):\n",
        "    if nums[i] != 0:\n",
        "        nums[non_zero_p] = nums[i]\n",
        "        non_zero_p += 1\n",
        "    else:\n",
        "        number_of_zeros += 1\n",
        "        \n",
        "  number_of_non_zeros = len(nums) - number_of_zeros\n",
        "  for i in range(number_of_zeros):\n",
        "      nums[number_of_non_zeros + i] = 0\n",
        "  \n",
        "  return nums"
      ],
      "metadata": {
        "id": "-AYJSa9ztoRW"
      },
      "execution_count": null,
      "outputs": []
    },
    {
      "cell_type": "code",
      "source": [
        "assert [1,3,12,0,0] == moveZeros([0,1,0,3,12])"
      ],
      "metadata": {
        "id": "v0yH34TeyxWW"
      },
      "execution_count": null,
      "outputs": []
    },
    {
      "cell_type": "code",
      "source": [],
      "metadata": {
        "id": "vnzoNRJLyzqb"
      },
      "execution_count": null,
      "outputs": []
    },
    {
      "cell_type": "markdown",
      "source": [
        "## Binary search\n",
        "\n",
        "- Array need to be sorted\n",
        "- start with start, end = 0, len(arr)-1\n",
        "- mid calculation = start + (end - start) // 2\n",
        "- loop while (start <= end)\n",
        "- do mid + 1 or mide -1 appropiately"
      ],
      "metadata": {
        "id": "DwxVyu0jP39W"
      }
    },
    {
      "cell_type": "code",
      "source": [
        "from typing import List"
      ],
      "metadata": {
        "id": "P-uCsgYGQHY2"
      },
      "execution_count": 3,
      "outputs": []
    },
    {
      "cell_type": "code",
      "source": [
        "def search(nums: List[int], target: int) -> int:\n",
        "        start = 0\n",
        "        end = len(nums) - 1\n",
        "\n",
        "        while(start <= end):\n",
        "            \n",
        "            mid = start + (end - start) // 2\n",
        "            print(f\"searching in  {start},{end} - {mid}\")\n",
        "            if nums[mid] == target:\n",
        "                return mid\n",
        "            elif nums[mid] > target:\n",
        "                end =  mid -1\n",
        "            else:\n",
        "                start = mid + 1\n",
        "        return -1"
      ],
      "metadata": {
        "id": "kN81GoOZP-DF"
      },
      "execution_count": 5,
      "outputs": []
    },
    {
      "cell_type": "code",
      "source": [
        "arr = [-1,0,3,5,9,12]\n",
        "search(arr, 12)"
      ],
      "metadata": {
        "id": "PfJi901GQTWt",
        "outputId": "8a29a45c-c762-4ab6-bc1a-8815268109a5",
        "colab": {
          "base_uri": "https://localhost:8080/"
        }
      },
      "execution_count": 9,
      "outputs": [
        {
          "output_type": "stream",
          "name": "stdout",
          "text": [
            "searching in  0,5 - 2\n",
            "searching in  3,5 - 4\n",
            "searching in  5,5 - 5\n"
          ]
        },
        {
          "output_type": "execute_result",
          "data": {
            "text/plain": [
              "5"
            ]
          },
          "metadata": {},
          "execution_count": 9
        }
      ]
    },
    {
      "cell_type": "code",
      "source": [
        "search(arr, -1)"
      ],
      "metadata": {
        "id": "oK7vh7smQeLN",
        "outputId": "02aa9e9a-5c1b-4b44-9368-38f8a2e3d63f",
        "colab": {
          "base_uri": "https://localhost:8080/"
        }
      },
      "execution_count": 10,
      "outputs": [
        {
          "output_type": "stream",
          "name": "stdout",
          "text": [
            "searching in  0,5 - 2\n",
            "searching in  0,1 - 0\n"
          ]
        },
        {
          "output_type": "execute_result",
          "data": {
            "text/plain": [
              "0"
            ]
          },
          "metadata": {},
          "execution_count": 10
        }
      ]
    },
    {
      "cell_type": "code",
      "source": [
        "search(arr, 9)"
      ],
      "metadata": {
        "id": "mxDuRCTBQhD0",
        "outputId": "3d033a52-492c-405f-916f-036d7f6b31e1",
        "colab": {
          "base_uri": "https://localhost:8080/"
        }
      },
      "execution_count": 8,
      "outputs": [
        {
          "output_type": "stream",
          "name": "stdout",
          "text": [
            "searching in  0,5 - 2\n",
            "searching in  3,5 - 4\n"
          ]
        },
        {
          "output_type": "execute_result",
          "data": {
            "text/plain": [
              "4"
            ]
          },
          "metadata": {},
          "execution_count": 8
        }
      ]
    },
    {
      "cell_type": "markdown",
      "source": [],
      "metadata": {
        "id": "mJiolWZ5P1Ad"
      }
    }
  ]
}