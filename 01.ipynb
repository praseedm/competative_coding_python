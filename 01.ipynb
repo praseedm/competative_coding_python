{
  "nbformat": 4,
  "nbformat_minor": 0,
  "metadata": {
    "colab": {
      "provenance": [],
      "authorship_tag": "ABX9TyPfuCMWjhgM9uUSIBJkDn+/",
      "include_colab_link": true
    },
    "kernelspec": {
      "name": "python3",
      "display_name": "Python 3"
    },
    "language_info": {
      "name": "python"
    }
  },
  "cells": [
    {
      "cell_type": "markdown",
      "metadata": {
        "id": "view-in-github",
        "colab_type": "text"
      },
      "source": [
        "<a href=\"https://colab.research.google.com/github/praseedm/competative_coding_python/blob/main/01.ipynb\" target=\"_parent\"><img src=\"https://colab.research.google.com/assets/colab-badge.svg\" alt=\"Open In Colab\"/></a>"
      ]
    },
    {
      "cell_type": "markdown",
      "source": [
        "## Two pointer"
      ],
      "metadata": {
        "id": "wsDFeR1cOaIw"
      }
    },
    {
      "cell_type": "markdown",
      "source": [
        "### Is palindrome"
      ],
      "metadata": {
        "id": "Bch_Xjf0OgMF"
      }
    },
    {
      "cell_type": "code",
      "source": [
        "def isPalindrome(s:str) -> bool:\n",
        "    \"\"\"\n",
        "    Check if palindrome\n",
        "    \"\"\"\n",
        "    i = 0\n",
        "    j = len(s)-1\n",
        "    while (i<j):\n",
        "      if s[i] != s[j]:\n",
        "        # not palindrome return False\n",
        "        return False\n",
        "      \n",
        "      i += 1\n",
        "      j -= 1\n",
        "    \n",
        "    return True"
      ],
      "metadata": {
        "id": "GghjHmDfoFXM"
      },
      "execution_count": null,
      "outputs": []
    },
    {
      "cell_type": "code",
      "source": [
        "tests = [\"civic\", \"level\", \"programing\"]\n",
        "for i in tests:\n",
        "  print(i, isPalindrome(s=i))"
      ],
      "metadata": {
        "colab": {
          "base_uri": "https://localhost:8080/"
        },
        "id": "ETl4CTAOQ5ud",
        "outputId": "55551d5a-dd38-4112-adff-1a416611545a"
      },
      "execution_count": 12,
      "outputs": [
        {
          "output_type": "stream",
          "name": "stdout",
          "text": [
            "civic True\n",
            "level True\n",
            "programing False\n"
          ]
        }
      ]
    },
    {
      "cell_type": "markdown",
      "source": [
        "### Rotate array to right by K steps"
      ],
      "metadata": {
        "id": "7rYcNRVVdyv_"
      }
    },
    {
      "cell_type": "code",
      "source": [
        "def rotate(nums, k):\n",
        "        \"\"\"\n",
        "        :type nums: List[int]\n",
        "        :type k: int\n",
        "        :rtype: None Do not return anything, modify nums in-place instead.\n",
        "        \"\"\"\n",
        "        k = k % len(nums)\n",
        "        last_k = nums[len(nums) - k :]\n",
        "\n",
        "        # shift first n-k to right\n",
        "        for i in range(len(nums)-k-1, -1, -1):\n",
        "            nums[i+k] = nums[i]\n",
        "\n",
        "        for i in range(k):\n",
        "            nums[i] = last_k[i]"
      ],
      "metadata": {
        "id": "UBQR4yEKRK6S"
      },
      "execution_count": 8,
      "outputs": []
    },
    {
      "cell_type": "code",
      "source": [
        "nums = [1, 2, 3, 4, 5, 6, 7]\n",
        "k = 3\n",
        "rotate(nums, k)\n",
        "print(nums)\n",
        "\n",
        "nums = [-1,-100,3,99]\n",
        "k = 2\n",
        "rotate(nums, k)\n",
        "print(nums)"
      ],
      "metadata": {
        "colab": {
          "base_uri": "https://localhost:8080/"
        },
        "id": "h7GVPew0V94i",
        "outputId": "7e1633df-925a-4e49-d0df-6ca4d9f4de7f"
      },
      "execution_count": 10,
      "outputs": [
        {
          "output_type": "stream",
          "name": "stdout",
          "text": [
            "[5, 6, 7, 1, 2, 3, 4]\n",
            "[3, 99, -1, -100]\n"
          ]
        }
      ]
    },
    {
      "cell_type": "code",
      "source": [
        "def rotate_left(nums, k):\n",
        "  length = len(nums)\n",
        "\n",
        "  k = k % length\n",
        "  first_k = nums[ : k]\n",
        "\n",
        "  #shift left\n",
        "  for i in range(k,length):\n",
        "    nums[i-k] = nums[i]\n",
        "  \n",
        "  # add first_k to last\n",
        "  for i in range(k):\n",
        "    nums[length - k + i] = first_k[i]\n",
        "\n",
        "  return nums"
      ],
      "metadata": {
        "id": "O81o13iuWB7s"
      },
      "execution_count": 13,
      "outputs": []
    },
    {
      "cell_type": "code",
      "source": [
        "assert [3,4,5,1,2] == rotate_left([1,2,3,4,5], 2)"
      ],
      "metadata": {
        "id": "rSsc-AGetoBC"
      },
      "execution_count": 14,
      "outputs": []
    },
    {
      "cell_type": "markdown",
      "source": [
        "### Move Zeros"
      ],
      "metadata": {
        "id": "i-pfES_st9O_"
      }
    },
    {
      "cell_type": "code",
      "source": [
        "def moveZeros(nums):\n",
        "  number_of_zeros = 0\n",
        "  non_zero_p = 0\n",
        "\n",
        "  for i in range(len(nums)):\n",
        "    if nums[i] != 0:\n",
        "        nums[non_zero_p] = nums[i]\n",
        "        non_zero_p += 1\n",
        "    else:\n",
        "        number_of_zeros += 1\n",
        "        \n",
        "  number_of_non_zeros = len(nums) - number_of_zeros\n",
        "  for i in range(number_of_zeros):\n",
        "      nums[number_of_non_zeros + i] = 0\n",
        "  \n",
        "  return nums"
      ],
      "metadata": {
        "id": "-AYJSa9ztoRW"
      },
      "execution_count": 15,
      "outputs": []
    },
    {
      "cell_type": "code",
      "source": [
        "assert [1,3,12,0,0] == moveZeros([0,1,0,3,12])"
      ],
      "metadata": {
        "id": "v0yH34TeyxWW"
      },
      "execution_count": 16,
      "outputs": []
    },
    {
      "cell_type": "code",
      "source": [],
      "metadata": {
        "id": "vnzoNRJLyzqb"
      },
      "execution_count": null,
      "outputs": []
    }
  ]
}