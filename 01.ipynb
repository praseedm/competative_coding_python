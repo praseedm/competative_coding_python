{
  "nbformat": 4,
  "nbformat_minor": 0,
  "metadata": {
    "colab": {
      "provenance": [],
      "authorship_tag": "ABX9TyPpq2mPlGViIFHQyaB50JoA",
      "include_colab_link": true
    },
    "kernelspec": {
      "name": "python3",
      "display_name": "Python 3"
    },
    "language_info": {
      "name": "python"
    }
  },
  "cells": [
    {
      "cell_type": "markdown",
      "metadata": {
        "id": "view-in-github",
        "colab_type": "text"
      },
      "source": [
        "<a href=\"https://colab.research.google.com/github/praseedm/competative_coding_python/blob/main/01.ipynb\" target=\"_parent\"><img src=\"https://colab.research.google.com/assets/colab-badge.svg\" alt=\"Open In Colab\"/></a>"
      ]
    },
    {
      "cell_type": "markdown",
      "source": [
        "## Two pointer"
      ],
      "metadata": {
        "id": "wsDFeR1cOaIw"
      }
    },
    {
      "cell_type": "markdown",
      "source": [
        "### Is palindrome"
      ],
      "metadata": {
        "id": "Bch_Xjf0OgMF"
      }
    },
    {
      "cell_type": "code",
      "source": [
        "def isPalindrome(s:str) -> bool:\n",
        "    \"\"\"\n",
        "    Check if palindrome\n",
        "    \"\"\"\n",
        "    i = 0\n",
        "    j = len(s)-1\n",
        "    while (i<j):\n",
        "      if s[i] != s[j]:\n",
        "        # not palindrome return False\n",
        "        return False\n",
        "\n",
        "      i += 1\n",
        "      j -= 1\n",
        "\n",
        "    return True"
      ],
      "metadata": {
        "id": "GghjHmDfoFXM"
      },
      "execution_count": null,
      "outputs": []
    },
    {
      "cell_type": "code",
      "source": [
        "tests = [\"civic\", \"level\", \"programing\"]\n",
        "for i in tests:\n",
        "  print(i, isPalindrome(s=i))"
      ],
      "metadata": {
        "colab": {
          "base_uri": "https://localhost:8080/"
        },
        "id": "ETl4CTAOQ5ud",
        "outputId": "55551d5a-dd38-4112-adff-1a416611545a"
      },
      "execution_count": null,
      "outputs": [
        {
          "output_type": "stream",
          "name": "stdout",
          "text": [
            "civic True\n",
            "level True\n",
            "programing False\n"
          ]
        }
      ]
    },
    {
      "cell_type": "markdown",
      "source": [
        "### Rotate array to right by K steps"
      ],
      "metadata": {
        "id": "7rYcNRVVdyv_"
      }
    },
    {
      "cell_type": "code",
      "source": [
        "def rotate(nums, k):\n",
        "        \"\"\"\n",
        "        :type nums: List[int]\n",
        "        :type k: int\n",
        "        :rtype: None Do not return anything, modify nums in-place instead.\n",
        "        \"\"\"\n",
        "        k = k % len(nums)\n",
        "        last_k = nums[len(nums) - k :]\n",
        "\n",
        "        # shift first n-k to right\n",
        "        for i in range(len(nums)-k-1, -1, -1):\n",
        "            nums[i+k] = nums[i]\n",
        "\n",
        "        for i in range(k):\n",
        "            nums[i] = last_k[i]"
      ],
      "metadata": {
        "id": "UBQR4yEKRK6S"
      },
      "execution_count": null,
      "outputs": []
    },
    {
      "cell_type": "code",
      "source": [
        "nums = [1, 2, 3, 4, 5, 6, 7]\n",
        "k = 3\n",
        "rotate(nums, k)\n",
        "print(nums)\n",
        "\n",
        "nums = [-1,-100,3,99]\n",
        "k = 2\n",
        "rotate(nums, k)\n",
        "print(nums)"
      ],
      "metadata": {
        "colab": {
          "base_uri": "https://localhost:8080/"
        },
        "id": "h7GVPew0V94i",
        "outputId": "7e1633df-925a-4e49-d0df-6ca4d9f4de7f"
      },
      "execution_count": null,
      "outputs": [
        {
          "output_type": "stream",
          "name": "stdout",
          "text": [
            "[5, 6, 7, 1, 2, 3, 4]\n",
            "[3, 99, -1, -100]\n"
          ]
        }
      ]
    },
    {
      "cell_type": "code",
      "source": [
        "def rotate_left(nums, k):\n",
        "  length = len(nums)\n",
        "\n",
        "  k = k % length\n",
        "  first_k = nums[ : k]\n",
        "\n",
        "  #shift left\n",
        "  for i in range(k,length):\n",
        "    nums[i-k] = nums[i]\n",
        "\n",
        "  # add first_k to last\n",
        "  for i in range(k):\n",
        "    nums[length - k + i] = first_k[i]\n",
        "\n",
        "  return nums"
      ],
      "metadata": {
        "id": "O81o13iuWB7s"
      },
      "execution_count": null,
      "outputs": []
    },
    {
      "cell_type": "code",
      "source": [
        "assert [3,4,5,1,2] == rotate_left([1,2,3,4,5], 2)"
      ],
      "metadata": {
        "id": "rSsc-AGetoBC"
      },
      "execution_count": null,
      "outputs": []
    },
    {
      "cell_type": "markdown",
      "source": [
        "### Move Zeros"
      ],
      "metadata": {
        "id": "i-pfES_st9O_"
      }
    },
    {
      "cell_type": "code",
      "source": [
        "def moveZeros(nums):\n",
        "  number_of_zeros = 0\n",
        "  non_zero_p = 0\n",
        "\n",
        "  for i in range(len(nums)):\n",
        "    if nums[i] != 0:\n",
        "        nums[non_zero_p] = nums[i]\n",
        "        non_zero_p += 1\n",
        "    else:\n",
        "        number_of_zeros += 1\n",
        "\n",
        "  number_of_non_zeros = len(nums) - number_of_zeros\n",
        "  for i in range(number_of_zeros):\n",
        "      nums[number_of_non_zeros + i] = 0\n",
        "\n",
        "  return nums"
      ],
      "metadata": {
        "id": "-AYJSa9ztoRW"
      },
      "execution_count": null,
      "outputs": []
    },
    {
      "cell_type": "code",
      "source": [
        "assert [1,3,12,0,0] == moveZeros([0,1,0,3,12])"
      ],
      "metadata": {
        "id": "v0yH34TeyxWW"
      },
      "execution_count": null,
      "outputs": []
    },
    {
      "cell_type": "code",
      "source": [],
      "metadata": {
        "id": "vnzoNRJLyzqb"
      },
      "execution_count": null,
      "outputs": []
    },
    {
      "cell_type": "markdown",
      "source": [
        "## Binary search\n",
        "\n",
        "- Array need to be sorted\n",
        "- start with start, end = 0, len(arr)-1\n",
        "- mid calculation = start + (end - start) // 2\n",
        "- loop while (start <= end)\n",
        "- do mid + 1 or mide -1 appropiately"
      ],
      "metadata": {
        "id": "DwxVyu0jP39W"
      }
    },
    {
      "cell_type": "code",
      "source": [
        "from typing import List"
      ],
      "metadata": {
        "id": "P-uCsgYGQHY2"
      },
      "execution_count": 1,
      "outputs": []
    },
    {
      "cell_type": "code",
      "source": [
        "def search(nums: List[int], target: int) -> int:\n",
        "        start = 0\n",
        "        end = len(nums) - 1\n",
        "\n",
        "        while(start <= end):\n",
        "\n",
        "            mid = start + (end - start) // 2\n",
        "            print(f\"searching in  {start},{end} - {mid}\")\n",
        "            if nums[mid] == target:\n",
        "                return mid\n",
        "            elif nums[mid] > target:\n",
        "                end =  mid -1\n",
        "            else:\n",
        "                start = mid + 1\n",
        "        return -1"
      ],
      "metadata": {
        "id": "kN81GoOZP-DF"
      },
      "execution_count": 7,
      "outputs": []
    },
    {
      "cell_type": "code",
      "source": [
        "def search2(nums: List[int], target: int) -> int:\n",
        "        start = 0\n",
        "        end = len(nums) - 1\n",
        "\n",
        "        while(start <= end):\n",
        "\n",
        "            mid =  (start + end) // 2\n",
        "            #start + (end - start) // 2\n",
        "            print(f\"searching in  {start},{end} - {mid}\")\n",
        "            if nums[mid] == target:\n",
        "                return mid\n",
        "            elif nums[mid] > target:\n",
        "                end =  mid -1\n",
        "            else:\n",
        "                start = mid + 1\n",
        "        return -1"
      ],
      "metadata": {
        "id": "IXjaCCReNlbK"
      },
      "execution_count": 11,
      "outputs": []
    },
    {
      "cell_type": "code",
      "source": [
        "arr = [-1,0,3,5,9,12]\n",
        "search(arr, 12)"
      ],
      "metadata": {
        "id": "PfJi901GQTWt",
        "outputId": "c146fc00-abe5-4d43-c012-c159b4c522fc",
        "colab": {
          "base_uri": "https://localhost:8080/"
        }
      },
      "execution_count": 3,
      "outputs": [
        {
          "output_type": "stream",
          "name": "stdout",
          "text": [
            "searching in  0,5 - 2\n",
            "searching in  3,5 - 4\n",
            "searching in  5,5 - 5\n"
          ]
        },
        {
          "output_type": "execute_result",
          "data": {
            "text/plain": [
              "5"
            ]
          },
          "metadata": {},
          "execution_count": 3
        }
      ]
    },
    {
      "cell_type": "code",
      "source": [
        "search2(arr, 12)"
      ],
      "metadata": {
        "colab": {
          "base_uri": "https://localhost:8080/"
        },
        "id": "LgxMM9BnNb3x",
        "outputId": "1611ba96-acad-4b53-b98d-4d68cae2a82a"
      },
      "execution_count": 12,
      "outputs": [
        {
          "output_type": "stream",
          "name": "stdout",
          "text": [
            "searching in  0,5 - 2\n",
            "searching in  3,5 - 4\n",
            "searching in  5,5 - 5\n"
          ]
        },
        {
          "output_type": "execute_result",
          "data": {
            "text/plain": [
              "5"
            ]
          },
          "metadata": {},
          "execution_count": 12
        }
      ]
    },
    {
      "cell_type": "code",
      "source": [
        "search(arr, -1)"
      ],
      "metadata": {
        "id": "oK7vh7smQeLN",
        "outputId": "68f36783-788c-4644-c047-53193ee8212c",
        "colab": {
          "base_uri": "https://localhost:8080/"
        }
      },
      "execution_count": 4,
      "outputs": [
        {
          "output_type": "stream",
          "name": "stdout",
          "text": [
            "searching in  0,5 - 2\n",
            "searching in  0,1 - 0\n"
          ]
        },
        {
          "output_type": "execute_result",
          "data": {
            "text/plain": [
              "0"
            ]
          },
          "metadata": {},
          "execution_count": 4
        }
      ]
    },
    {
      "cell_type": "code",
      "source": [
        "search2(arr, -1)"
      ],
      "metadata": {
        "colab": {
          "base_uri": "https://localhost:8080/"
        },
        "id": "cPRKYe27Ngnm",
        "outputId": "51fcdaf8-cb95-4cd4-e0d4-50d5047f127b"
      },
      "execution_count": 13,
      "outputs": [
        {
          "output_type": "stream",
          "name": "stdout",
          "text": [
            "searching in  0,5 - 2\n",
            "searching in  0,1 - 0\n"
          ]
        },
        {
          "output_type": "execute_result",
          "data": {
            "text/plain": [
              "0"
            ]
          },
          "metadata": {},
          "execution_count": 13
        }
      ]
    },
    {
      "cell_type": "code",
      "source": [
        "search(arr, 9)"
      ],
      "metadata": {
        "id": "mxDuRCTBQhD0",
        "outputId": "5bbeb0f4-ccd7-4e3e-86e5-16a018af16bd",
        "colab": {
          "base_uri": "https://localhost:8080/"
        }
      },
      "execution_count": 5,
      "outputs": [
        {
          "output_type": "stream",
          "name": "stdout",
          "text": [
            "searching in  0,5 - 2\n",
            "searching in  3,5 - 4\n"
          ]
        },
        {
          "output_type": "execute_result",
          "data": {
            "text/plain": [
              "4"
            ]
          },
          "metadata": {},
          "execution_count": 5
        }
      ]
    },
    {
      "cell_type": "code",
      "source": [
        "search2(arr, 9)"
      ],
      "metadata": {
        "colab": {
          "base_uri": "https://localhost:8080/"
        },
        "id": "sdC2R4OeNiol",
        "outputId": "9dc31bcd-2115-46e0-90bb-21c30b4aa3ca"
      },
      "execution_count": 14,
      "outputs": [
        {
          "output_type": "stream",
          "name": "stdout",
          "text": [
            "searching in  0,5 - 2\n",
            "searching in  3,5 - 4\n"
          ]
        },
        {
          "output_type": "execute_result",
          "data": {
            "text/plain": [
              "4"
            ]
          },
          "metadata": {},
          "execution_count": 14
        }
      ]
    },
    {
      "cell_type": "code",
      "source": [
        "# validate greater paris"
      ],
      "metadata": {
        "id": "wYLo79RctmX0"
      },
      "execution_count": 1,
      "outputs": []
    },
    {
      "cell_type": "markdown",
      "source": [],
      "metadata": {
        "id": "mJiolWZ5P1Ad"
      }
    },
    {
      "cell_type": "markdown",
      "source": [
        "# Validate acyclic directed graph"
      ],
      "metadata": {
        "id": "Uyw4wZaBOOWu"
      }
    },
    {
      "cell_type": "code",
      "source": [
        "from collections import defaultdict, deque\n",
        "from typing import List, Tuple\n",
        "\n",
        "def validate(input: List[Tuple]) -> bool:\n",
        "  graph = defaultdict(list)\n",
        "\n",
        "  for a,b in input:\n",
        "    graph[a].append(b)\n",
        "\n",
        "  for item in graph:\n",
        "      visited = set()\n",
        "\n",
        "      queue = deque([item])\n",
        "\n",
        "      while queue:\n",
        "        cur = queue.popleft()\n",
        "\n",
        "        if cur not in graph:\n",
        "          continue # A leaf can  be reachable from many nodes\n",
        "\n",
        "        if cur in visited:\n",
        "          return cur, False, visited, graph\n",
        "\n",
        "        visited.add(cur)\n",
        "\n",
        "        for c in graph[cur]:\n",
        "            queue.append(c)\n",
        "\n",
        "  return True"
      ],
      "metadata": {
        "id": "69HXwqmItqGQ"
      },
      "execution_count": 174,
      "outputs": []
    },
    {
      "cell_type": "code",
      "source": [
        "def detect_cycle(graph, start_node, visited, stack):\n",
        "    visited[start_node] = True\n",
        "    stack[start_node] = True\n",
        "\n",
        "    for neighbor in graph[start_node]:\n",
        "        if not visited[neighbor]:\n",
        "            if detect_cycle(graph, neighbor, visited, stack):\n",
        "                return True\n",
        "        elif stack[neighbor]:\n",
        "            return True\n",
        "\n",
        "    stack[start_node] = False\n",
        "    return False\n",
        "\n",
        "def validate_mod(input):\n",
        "    graph = defaultdict(list)\n",
        "\n",
        "    for a, b in input:\n",
        "        graph[a].append(b)\n",
        "\n",
        "    visited = {node: False for node in graph}\n",
        "    stack = {node: False for node in graph}\n",
        "\n",
        "    for node in graph:\n",
        "        if not visited[node]:\n",
        "            if detect_cycle(graph, node, visited, stack):\n",
        "                return True\n",
        "\n",
        "    return False"
      ],
      "metadata": {
        "id": "2XF7XBK9Rb8q"
      },
      "execution_count": 170,
      "outputs": []
    },
    {
      "cell_type": "code",
      "source": [
        "inp = [('a', 'b'), ('b', 'c'), ('e','a'), ('e','c'), ('a', 'f'), ('f', 'b')]"
      ],
      "metadata": {
        "id": "q6IhcOfCvByF"
      },
      "execution_count": 175,
      "outputs": []
    },
    {
      "cell_type": "code",
      "source": [
        "validate(inp)"
      ],
      "metadata": {
        "id": "gC4QyqoZvIth",
        "outputId": "21d23468-9f22-4ae7-a2db-9b8748c21d59",
        "colab": {
          "base_uri": "https://localhost:8080/"
        }
      },
      "execution_count": 176,
      "outputs": [
        {
          "output_type": "execute_result",
          "data": {
            "text/plain": [
              "('b',\n",
              " False,\n",
              " {'a', 'b', 'f'},\n",
              " defaultdict(list, {'a': ['b', 'f'], 'b': ['c'], 'e': ['a', 'c'], 'f': ['b']}))"
            ]
          },
          "metadata": {},
          "execution_count": 176
        }
      ]
    },
    {
      "cell_type": "code",
      "source": [
        "validate_mod(inp)"
      ],
      "metadata": {
        "id": "kyS-Kzi-Rfz2",
        "outputId": "19f6cd79-c8d9-4f18-a918-8d492cb7f33f",
        "colab": {
          "base_uri": "https://localhost:8080/",
          "height": 287
        }
      },
      "execution_count": 172,
      "outputs": [
        {
          "output_type": "error",
          "ename": "KeyError",
          "evalue": "'c'",
          "traceback": [
            "\u001b[0;31m---------------------------------------------------------------------------\u001b[0m",
            "\u001b[0;31mKeyError\u001b[0m                                  Traceback (most recent call last)",
            "\u001b[0;32m<ipython-input-172-76783ae6fcf8>\u001b[0m in \u001b[0;36m<cell line: 1>\u001b[0;34m()\u001b[0m\n\u001b[0;32m----> 1\u001b[0;31m \u001b[0mvalidate_mod\u001b[0m\u001b[0;34m(\u001b[0m\u001b[0minp\u001b[0m\u001b[0;34m)\u001b[0m\u001b[0;34m\u001b[0m\u001b[0;34m\u001b[0m\u001b[0m\n\u001b[0m",
            "\u001b[0;32m<ipython-input-170-379c3de138f4>\u001b[0m in \u001b[0;36mvalidate_mod\u001b[0;34m(input)\u001b[0m\n\u001b[1;32m     24\u001b[0m     \u001b[0;32mfor\u001b[0m \u001b[0mnode\u001b[0m \u001b[0;32min\u001b[0m \u001b[0mgraph\u001b[0m\u001b[0;34m:\u001b[0m\u001b[0;34m\u001b[0m\u001b[0;34m\u001b[0m\u001b[0m\n\u001b[1;32m     25\u001b[0m         \u001b[0;32mif\u001b[0m \u001b[0;32mnot\u001b[0m \u001b[0mvisited\u001b[0m\u001b[0;34m[\u001b[0m\u001b[0mnode\u001b[0m\u001b[0;34m]\u001b[0m\u001b[0;34m:\u001b[0m\u001b[0;34m\u001b[0m\u001b[0;34m\u001b[0m\u001b[0m\n\u001b[0;32m---> 26\u001b[0;31m             \u001b[0;32mif\u001b[0m \u001b[0mdetect_cycle\u001b[0m\u001b[0;34m(\u001b[0m\u001b[0mgraph\u001b[0m\u001b[0;34m,\u001b[0m \u001b[0mnode\u001b[0m\u001b[0;34m,\u001b[0m \u001b[0mvisited\u001b[0m\u001b[0;34m,\u001b[0m \u001b[0mstack\u001b[0m\u001b[0;34m)\u001b[0m\u001b[0;34m:\u001b[0m\u001b[0;34m\u001b[0m\u001b[0;34m\u001b[0m\u001b[0m\n\u001b[0m\u001b[1;32m     27\u001b[0m                 \u001b[0;32mreturn\u001b[0m \u001b[0;32mTrue\u001b[0m\u001b[0;34m\u001b[0m\u001b[0;34m\u001b[0m\u001b[0m\n\u001b[1;32m     28\u001b[0m \u001b[0;34m\u001b[0m\u001b[0m\n",
            "\u001b[0;32m<ipython-input-170-379c3de138f4>\u001b[0m in \u001b[0;36mdetect_cycle\u001b[0;34m(graph, start_node, visited, stack)\u001b[0m\n\u001b[1;32m      5\u001b[0m     \u001b[0;32mfor\u001b[0m \u001b[0mneighbor\u001b[0m \u001b[0;32min\u001b[0m \u001b[0mgraph\u001b[0m\u001b[0;34m[\u001b[0m\u001b[0mstart_node\u001b[0m\u001b[0;34m]\u001b[0m\u001b[0;34m:\u001b[0m\u001b[0;34m\u001b[0m\u001b[0;34m\u001b[0m\u001b[0m\n\u001b[1;32m      6\u001b[0m         \u001b[0;32mif\u001b[0m \u001b[0;32mnot\u001b[0m \u001b[0mvisited\u001b[0m\u001b[0;34m[\u001b[0m\u001b[0mneighbor\u001b[0m\u001b[0;34m]\u001b[0m\u001b[0;34m:\u001b[0m\u001b[0;34m\u001b[0m\u001b[0;34m\u001b[0m\u001b[0m\n\u001b[0;32m----> 7\u001b[0;31m             \u001b[0;32mif\u001b[0m \u001b[0mdetect_cycle\u001b[0m\u001b[0;34m(\u001b[0m\u001b[0mgraph\u001b[0m\u001b[0;34m,\u001b[0m \u001b[0mneighbor\u001b[0m\u001b[0;34m,\u001b[0m \u001b[0mvisited\u001b[0m\u001b[0;34m,\u001b[0m \u001b[0mstack\u001b[0m\u001b[0;34m)\u001b[0m\u001b[0;34m:\u001b[0m\u001b[0;34m\u001b[0m\u001b[0;34m\u001b[0m\u001b[0m\n\u001b[0m\u001b[1;32m      8\u001b[0m                 \u001b[0;32mreturn\u001b[0m \u001b[0;32mTrue\u001b[0m\u001b[0;34m\u001b[0m\u001b[0;34m\u001b[0m\u001b[0m\n\u001b[1;32m      9\u001b[0m         \u001b[0;32melif\u001b[0m \u001b[0mstack\u001b[0m\u001b[0;34m[\u001b[0m\u001b[0mneighbor\u001b[0m\u001b[0;34m]\u001b[0m\u001b[0;34m:\u001b[0m\u001b[0;34m\u001b[0m\u001b[0;34m\u001b[0m\u001b[0m\n",
            "\u001b[0;32m<ipython-input-170-379c3de138f4>\u001b[0m in \u001b[0;36mdetect_cycle\u001b[0;34m(graph, start_node, visited, stack)\u001b[0m\n\u001b[1;32m      4\u001b[0m \u001b[0;34m\u001b[0m\u001b[0m\n\u001b[1;32m      5\u001b[0m     \u001b[0;32mfor\u001b[0m \u001b[0mneighbor\u001b[0m \u001b[0;32min\u001b[0m \u001b[0mgraph\u001b[0m\u001b[0;34m[\u001b[0m\u001b[0mstart_node\u001b[0m\u001b[0;34m]\u001b[0m\u001b[0;34m:\u001b[0m\u001b[0;34m\u001b[0m\u001b[0;34m\u001b[0m\u001b[0m\n\u001b[0;32m----> 6\u001b[0;31m         \u001b[0;32mif\u001b[0m \u001b[0;32mnot\u001b[0m \u001b[0mvisited\u001b[0m\u001b[0;34m[\u001b[0m\u001b[0mneighbor\u001b[0m\u001b[0;34m]\u001b[0m\u001b[0;34m:\u001b[0m\u001b[0;34m\u001b[0m\u001b[0;34m\u001b[0m\u001b[0m\n\u001b[0m\u001b[1;32m      7\u001b[0m             \u001b[0;32mif\u001b[0m \u001b[0mdetect_cycle\u001b[0m\u001b[0;34m(\u001b[0m\u001b[0mgraph\u001b[0m\u001b[0;34m,\u001b[0m \u001b[0mneighbor\u001b[0m\u001b[0;34m,\u001b[0m \u001b[0mvisited\u001b[0m\u001b[0;34m,\u001b[0m \u001b[0mstack\u001b[0m\u001b[0;34m)\u001b[0m\u001b[0;34m:\u001b[0m\u001b[0;34m\u001b[0m\u001b[0;34m\u001b[0m\u001b[0m\n\u001b[1;32m      8\u001b[0m                 \u001b[0;32mreturn\u001b[0m \u001b[0;32mTrue\u001b[0m\u001b[0;34m\u001b[0m\u001b[0;34m\u001b[0m\u001b[0m\n",
            "\u001b[0;31mKeyError\u001b[0m: 'c'"
          ]
        }
      ]
    },
    {
      "cell_type": "code",
      "source": [
        "for i in dict(inp):\n",
        "  print(i)"
      ],
      "metadata": {
        "id": "RE58-CSwvjLq",
        "outputId": "33cf6c2a-cb9d-487e-c98c-729785c9421e",
        "colab": {
          "base_uri": "https://localhost:8080/"
        }
      },
      "execution_count": 41,
      "outputs": [
        {
          "output_type": "stream",
          "name": "stdout",
          "text": [
            "a\n",
            "b\n",
            "e\n"
          ]
        }
      ]
    },
    {
      "cell_type": "code",
      "source": [],
      "metadata": {
        "id": "w078T0GzEt8e"
      },
      "execution_count": null,
      "outputs": []
    }
  ]
}