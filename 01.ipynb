{
  "nbformat": 4,
  "nbformat_minor": 0,
  "metadata": {
    "colab": {
      "provenance": [],
      "authorship_tag": "ABX9TyMa9nutLDELHeMVnT70/eg6",
      "include_colab_link": true
    },
    "kernelspec": {
      "name": "python3",
      "display_name": "Python 3"
    },
    "language_info": {
      "name": "python"
    }
  },
  "cells": [
    {
      "cell_type": "markdown",
      "metadata": {
        "id": "view-in-github",
        "colab_type": "text"
      },
      "source": [
        "<a href=\"https://colab.research.google.com/github/praseedm/competative_coding_python/blob/main/01.ipynb\" target=\"_parent\"><img src=\"https://colab.research.google.com/assets/colab-badge.svg\" alt=\"Open In Colab\"/></a>"
      ]
    },
    {
      "cell_type": "markdown",
      "source": [
        "## Two pointer"
      ],
      "metadata": {
        "id": "wsDFeR1cOaIw"
      }
    },
    {
      "cell_type": "markdown",
      "source": [
        "### Is palindrome"
      ],
      "metadata": {
        "id": "Bch_Xjf0OgMF"
      }
    },
    {
      "cell_type": "code",
      "source": [
        "def isPalindrome(s:str) -> bool:\n",
        "  i = 0\n",
        "  j = len(s)-1\n",
        "\n",
        "  while(i<j):\n",
        "    if s[i] != s[j]:\n",
        "      # not palindrome\n",
        "      return False\n",
        "    \n",
        "    i += 1\n",
        "    j -= 1\n",
        "  \n",
        "  return True"
      ],
      "metadata": {
        "id": "Xe3ofYOwOhp_"
      },
      "execution_count": 1,
      "outputs": []
    },
    {
      "cell_type": "code",
      "source": [
        "tests = [\"civic\", \"level\", \"programing\"]\n",
        "for i in tests:\n",
        "  print(i, isPalindrome(s=i))"
      ],
      "metadata": {
        "colab": {
          "base_uri": "https://localhost:8080/"
        },
        "id": "ETl4CTAOQ5ud",
        "outputId": "ddaf96b1-6197-45e6-bd40-5900a716fe08"
      },
      "execution_count": 2,
      "outputs": [
        {
          "output_type": "stream",
          "name": "stdout",
          "text": [
            "civic True\n",
            "level True\n",
            "programing False\n"
          ]
        }
      ]
    },
    {
      "cell_type": "code",
      "source": [],
      "metadata": {
        "id": "UBQR4yEKRK6S"
      },
      "execution_count": null,
      "outputs": []
    }
  ]
}